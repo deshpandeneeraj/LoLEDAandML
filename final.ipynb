{
 "cells": [
  {
   "cell_type": "code",
   "execution_count": 1,
   "metadata": {},
   "outputs": [],
   "source": [
    "import pandas as pd\n",
    "import timeit \n",
    "import matplotlib.pyplot as plt\n",
    "from matplotlib import figure as fig\n",
    "from sklearn.tree import DecisionTreeClassifier\n",
    "from sklearn.linear_model import LogisticRegression\n",
    "from sklearn.metrics import accuracy_score\n",
    "from sklearn.model_selection import train_test_split\n",
    "from sklearn.svm import SVC\n",
    "\n",
    "import tensorflow as tf\n",
    "from tensorflow.keras.layers import Dense, Activation, Input\n",
    "from tensorflow.keras.models import Sequential"
   ]
  },
  {
   "cell_type": "code",
   "execution_count": 2,
   "metadata": {},
   "outputs": [
    {
     "data": {
      "text/html": [
       "<div>\n",
       "<style scoped>\n",
       "    .dataframe tbody tr th:only-of-type {\n",
       "        vertical-align: middle;\n",
       "    }\n",
       "\n",
       "    .dataframe tbody tr th {\n",
       "        vertical-align: top;\n",
       "    }\n",
       "\n",
       "    .dataframe thead th {\n",
       "        text-align: right;\n",
       "    }\n",
       "</style>\n",
       "<table border=\"1\" class=\"dataframe\">\n",
       "  <thead>\n",
       "    <tr style=\"text-align: right;\">\n",
       "      <th></th>\n",
       "      <th>gameId</th>\n",
       "      <th>blueWins</th>\n",
       "      <th>blueWardsPlaced</th>\n",
       "      <th>blueWardsDestroyed</th>\n",
       "      <th>blueFirstBlood</th>\n",
       "      <th>blueKills</th>\n",
       "      <th>blueDeaths</th>\n",
       "      <th>blueAssists</th>\n",
       "      <th>blueEliteMonsters</th>\n",
       "      <th>blueDragons</th>\n",
       "      <th>...</th>\n",
       "      <th>redTowersDestroyed</th>\n",
       "      <th>redTotalGold</th>\n",
       "      <th>redAvgLevel</th>\n",
       "      <th>redTotalExperience</th>\n",
       "      <th>redTotalMinionsKilled</th>\n",
       "      <th>redTotalJungleMinionsKilled</th>\n",
       "      <th>redGoldDiff</th>\n",
       "      <th>redExperienceDiff</th>\n",
       "      <th>redCSPerMin</th>\n",
       "      <th>redGoldPerMin</th>\n",
       "    </tr>\n",
       "  </thead>\n",
       "  <tbody>\n",
       "    <tr>\n",
       "      <th>0</th>\n",
       "      <td>4519157822</td>\n",
       "      <td>0</td>\n",
       "      <td>28</td>\n",
       "      <td>2</td>\n",
       "      <td>1</td>\n",
       "      <td>9</td>\n",
       "      <td>6</td>\n",
       "      <td>11</td>\n",
       "      <td>0</td>\n",
       "      <td>0</td>\n",
       "      <td>...</td>\n",
       "      <td>0</td>\n",
       "      <td>16567</td>\n",
       "      <td>6.8</td>\n",
       "      <td>17047</td>\n",
       "      <td>197</td>\n",
       "      <td>55</td>\n",
       "      <td>-643</td>\n",
       "      <td>8</td>\n",
       "      <td>19.7</td>\n",
       "      <td>1656.7</td>\n",
       "    </tr>\n",
       "    <tr>\n",
       "      <th>1</th>\n",
       "      <td>4523371949</td>\n",
       "      <td>0</td>\n",
       "      <td>12</td>\n",
       "      <td>1</td>\n",
       "      <td>0</td>\n",
       "      <td>5</td>\n",
       "      <td>5</td>\n",
       "      <td>5</td>\n",
       "      <td>0</td>\n",
       "      <td>0</td>\n",
       "      <td>...</td>\n",
       "      <td>1</td>\n",
       "      <td>17620</td>\n",
       "      <td>6.8</td>\n",
       "      <td>17438</td>\n",
       "      <td>240</td>\n",
       "      <td>52</td>\n",
       "      <td>2908</td>\n",
       "      <td>1173</td>\n",
       "      <td>24.0</td>\n",
       "      <td>1762.0</td>\n",
       "    </tr>\n",
       "    <tr>\n",
       "      <th>2</th>\n",
       "      <td>4521474530</td>\n",
       "      <td>0</td>\n",
       "      <td>15</td>\n",
       "      <td>0</td>\n",
       "      <td>0</td>\n",
       "      <td>7</td>\n",
       "      <td>11</td>\n",
       "      <td>4</td>\n",
       "      <td>1</td>\n",
       "      <td>1</td>\n",
       "      <td>...</td>\n",
       "      <td>0</td>\n",
       "      <td>17285</td>\n",
       "      <td>6.8</td>\n",
       "      <td>17254</td>\n",
       "      <td>203</td>\n",
       "      <td>28</td>\n",
       "      <td>1172</td>\n",
       "      <td>1033</td>\n",
       "      <td>20.3</td>\n",
       "      <td>1728.5</td>\n",
       "    </tr>\n",
       "    <tr>\n",
       "      <th>3</th>\n",
       "      <td>4524384067</td>\n",
       "      <td>0</td>\n",
       "      <td>43</td>\n",
       "      <td>1</td>\n",
       "      <td>0</td>\n",
       "      <td>4</td>\n",
       "      <td>5</td>\n",
       "      <td>5</td>\n",
       "      <td>1</td>\n",
       "      <td>0</td>\n",
       "      <td>...</td>\n",
       "      <td>0</td>\n",
       "      <td>16478</td>\n",
       "      <td>7.0</td>\n",
       "      <td>17961</td>\n",
       "      <td>235</td>\n",
       "      <td>47</td>\n",
       "      <td>1321</td>\n",
       "      <td>7</td>\n",
       "      <td>23.5</td>\n",
       "      <td>1647.8</td>\n",
       "    </tr>\n",
       "    <tr>\n",
       "      <th>4</th>\n",
       "      <td>4436033771</td>\n",
       "      <td>0</td>\n",
       "      <td>75</td>\n",
       "      <td>4</td>\n",
       "      <td>0</td>\n",
       "      <td>6</td>\n",
       "      <td>6</td>\n",
       "      <td>6</td>\n",
       "      <td>0</td>\n",
       "      <td>0</td>\n",
       "      <td>...</td>\n",
       "      <td>0</td>\n",
       "      <td>17404</td>\n",
       "      <td>7.0</td>\n",
       "      <td>18313</td>\n",
       "      <td>225</td>\n",
       "      <td>67</td>\n",
       "      <td>1004</td>\n",
       "      <td>-230</td>\n",
       "      <td>22.5</td>\n",
       "      <td>1740.4</td>\n",
       "    </tr>\n",
       "  </tbody>\n",
       "</table>\n",
       "<p>5 rows × 40 columns</p>\n",
       "</div>"
      ],
      "text/plain": [
       "       gameId  blueWins  blueWardsPlaced  blueWardsDestroyed  blueFirstBlood  \\\n",
       "0  4519157822         0               28                   2               1   \n",
       "1  4523371949         0               12                   1               0   \n",
       "2  4521474530         0               15                   0               0   \n",
       "3  4524384067         0               43                   1               0   \n",
       "4  4436033771         0               75                   4               0   \n",
       "\n",
       "   blueKills  blueDeaths  blueAssists  blueEliteMonsters  blueDragons  ...  \\\n",
       "0          9           6           11                  0            0  ...   \n",
       "1          5           5            5                  0            0  ...   \n",
       "2          7          11            4                  1            1  ...   \n",
       "3          4           5            5                  1            0  ...   \n",
       "4          6           6            6                  0            0  ...   \n",
       "\n",
       "   redTowersDestroyed  redTotalGold  redAvgLevel  redTotalExperience  \\\n",
       "0                   0         16567          6.8               17047   \n",
       "1                   1         17620          6.8               17438   \n",
       "2                   0         17285          6.8               17254   \n",
       "3                   0         16478          7.0               17961   \n",
       "4                   0         17404          7.0               18313   \n",
       "\n",
       "   redTotalMinionsKilled  redTotalJungleMinionsKilled  redGoldDiff  \\\n",
       "0                    197                           55         -643   \n",
       "1                    240                           52         2908   \n",
       "2                    203                           28         1172   \n",
       "3                    235                           47         1321   \n",
       "4                    225                           67         1004   \n",
       "\n",
       "   redExperienceDiff  redCSPerMin  redGoldPerMin  \n",
       "0                  8         19.7         1656.7  \n",
       "1               1173         24.0         1762.0  \n",
       "2               1033         20.3         1728.5  \n",
       "3                  7         23.5         1647.8  \n",
       "4               -230         22.5         1740.4  \n",
       "\n",
       "[5 rows x 40 columns]"
      ]
     },
     "execution_count": 2,
     "metadata": {},
     "output_type": "execute_result"
    }
   ],
   "source": [
    "data_raw = pd.read_csv('lol_data.csv')\n",
    "data_raw.head()"
   ]
  },
  {
   "cell_type": "code",
   "execution_count": 3,
   "metadata": {},
   "outputs": [],
   "source": [
    "#Min-Max Normalizing Data \n",
    "data_scaled = (data_raw - data_raw.min()) / (data_raw.max() - data_raw.min()) "
   ]
  },
  {
   "cell_type": "code",
   "execution_count": 4,
   "metadata": {},
   "outputs": [
    {
     "data": {
      "text/html": [
       "<div>\n",
       "<style scoped>\n",
       "    .dataframe tbody tr th:only-of-type {\n",
       "        vertical-align: middle;\n",
       "    }\n",
       "\n",
       "    .dataframe tbody tr th {\n",
       "        vertical-align: top;\n",
       "    }\n",
       "\n",
       "    .dataframe thead th {\n",
       "        text-align: right;\n",
       "    }\n",
       "</style>\n",
       "<table border=\"1\" class=\"dataframe\">\n",
       "  <thead>\n",
       "    <tr style=\"text-align: right;\">\n",
       "      <th></th>\n",
       "      <th>gameId</th>\n",
       "      <th>blueWins</th>\n",
       "      <th>blueWardsPlaced</th>\n",
       "      <th>blueWardsDestroyed</th>\n",
       "      <th>blueFirstBlood</th>\n",
       "      <th>blueKills</th>\n",
       "      <th>blueDeaths</th>\n",
       "      <th>blueAssists</th>\n",
       "      <th>blueEliteMonsters</th>\n",
       "      <th>blueDragons</th>\n",
       "      <th>...</th>\n",
       "      <th>redTowersDestroyed</th>\n",
       "      <th>redTotalGold</th>\n",
       "      <th>redAvgLevel</th>\n",
       "      <th>redTotalExperience</th>\n",
       "      <th>redTotalMinionsKilled</th>\n",
       "      <th>redTotalJungleMinionsKilled</th>\n",
       "      <th>redGoldDiff</th>\n",
       "      <th>redExperienceDiff</th>\n",
       "      <th>redCSPerMin</th>\n",
       "      <th>redGoldPerMin</th>\n",
       "    </tr>\n",
       "  </thead>\n",
       "  <tbody>\n",
       "    <tr>\n",
       "      <th>0</th>\n",
       "      <td>0.962031</td>\n",
       "      <td>0.0</td>\n",
       "      <td>0.093878</td>\n",
       "      <td>0.074074</td>\n",
       "      <td>1.0</td>\n",
       "      <td>0.409091</td>\n",
       "      <td>0.272727</td>\n",
       "      <td>0.379310</td>\n",
       "      <td>0.0</td>\n",
       "      <td>0.0</td>\n",
       "      <td>...</td>\n",
       "      <td>0.0</td>\n",
       "      <td>0.464844</td>\n",
       "      <td>0.588235</td>\n",
       "      <td>0.557608</td>\n",
       "      <td>0.494505</td>\n",
       "      <td>0.579545</td>\n",
       "      <td>0.485446</td>\n",
       "      <td>0.472598</td>\n",
       "      <td>0.494505</td>\n",
       "      <td>0.464844</td>\n",
       "    </tr>\n",
       "    <tr>\n",
       "      <th>1</th>\n",
       "      <td>0.980146</td>\n",
       "      <td>0.0</td>\n",
       "      <td>0.028571</td>\n",
       "      <td>0.037037</td>\n",
       "      <td>0.0</td>\n",
       "      <td>0.227273</td>\n",
       "      <td>0.227273</td>\n",
       "      <td>0.172414</td>\n",
       "      <td>0.0</td>\n",
       "      <td>0.0</td>\n",
       "      <td>...</td>\n",
       "      <td>0.5</td>\n",
       "      <td>0.556250</td>\n",
       "      <td>0.588235</td>\n",
       "      <td>0.590732</td>\n",
       "      <td>0.730769</td>\n",
       "      <td>0.545455</td>\n",
       "      <td>0.644706</td>\n",
       "      <td>0.538488</td>\n",
       "      <td>0.730769</td>\n",
       "      <td>0.556250</td>\n",
       "    </tr>\n",
       "    <tr>\n",
       "      <th>2</th>\n",
       "      <td>0.971990</td>\n",
       "      <td>0.0</td>\n",
       "      <td>0.040816</td>\n",
       "      <td>0.000000</td>\n",
       "      <td>0.0</td>\n",
       "      <td>0.318182</td>\n",
       "      <td>0.500000</td>\n",
       "      <td>0.137931</td>\n",
       "      <td>0.5</td>\n",
       "      <td>1.0</td>\n",
       "      <td>...</td>\n",
       "      <td>0.0</td>\n",
       "      <td>0.527170</td>\n",
       "      <td>0.588235</td>\n",
       "      <td>0.575144</td>\n",
       "      <td>0.527473</td>\n",
       "      <td>0.272727</td>\n",
       "      <td>0.566848</td>\n",
       "      <td>0.530570</td>\n",
       "      <td>0.527473</td>\n",
       "      <td>0.527170</td>\n",
       "    </tr>\n",
       "    <tr>\n",
       "      <th>3</th>\n",
       "      <td>0.984497</td>\n",
       "      <td>0.0</td>\n",
       "      <td>0.155102</td>\n",
       "      <td>0.037037</td>\n",
       "      <td>0.0</td>\n",
       "      <td>0.181818</td>\n",
       "      <td>0.227273</td>\n",
       "      <td>0.172414</td>\n",
       "      <td>0.5</td>\n",
       "      <td>0.0</td>\n",
       "      <td>...</td>\n",
       "      <td>0.0</td>\n",
       "      <td>0.457118</td>\n",
       "      <td>0.647059</td>\n",
       "      <td>0.635039</td>\n",
       "      <td>0.703297</td>\n",
       "      <td>0.488636</td>\n",
       "      <td>0.573530</td>\n",
       "      <td>0.472541</td>\n",
       "      <td>0.703297</td>\n",
       "      <td>0.457118</td>\n",
       "    </tr>\n",
       "    <tr>\n",
       "      <th>4</th>\n",
       "      <td>0.604712</td>\n",
       "      <td>0.0</td>\n",
       "      <td>0.285714</td>\n",
       "      <td>0.148148</td>\n",
       "      <td>0.0</td>\n",
       "      <td>0.272727</td>\n",
       "      <td>0.272727</td>\n",
       "      <td>0.206897</td>\n",
       "      <td>0.0</td>\n",
       "      <td>0.0</td>\n",
       "      <td>...</td>\n",
       "      <td>0.0</td>\n",
       "      <td>0.537500</td>\n",
       "      <td>0.647059</td>\n",
       "      <td>0.664859</td>\n",
       "      <td>0.648352</td>\n",
       "      <td>0.715909</td>\n",
       "      <td>0.559313</td>\n",
       "      <td>0.459137</td>\n",
       "      <td>0.648352</td>\n",
       "      <td>0.537500</td>\n",
       "    </tr>\n",
       "  </tbody>\n",
       "</table>\n",
       "<p>5 rows × 40 columns</p>\n",
       "</div>"
      ],
      "text/plain": [
       "     gameId  blueWins  blueWardsPlaced  blueWardsDestroyed  blueFirstBlood  \\\n",
       "0  0.962031       0.0         0.093878            0.074074             1.0   \n",
       "1  0.980146       0.0         0.028571            0.037037             0.0   \n",
       "2  0.971990       0.0         0.040816            0.000000             0.0   \n",
       "3  0.984497       0.0         0.155102            0.037037             0.0   \n",
       "4  0.604712       0.0         0.285714            0.148148             0.0   \n",
       "\n",
       "   blueKills  blueDeaths  blueAssists  blueEliteMonsters  blueDragons  ...  \\\n",
       "0   0.409091    0.272727     0.379310                0.0          0.0  ...   \n",
       "1   0.227273    0.227273     0.172414                0.0          0.0  ...   \n",
       "2   0.318182    0.500000     0.137931                0.5          1.0  ...   \n",
       "3   0.181818    0.227273     0.172414                0.5          0.0  ...   \n",
       "4   0.272727    0.272727     0.206897                0.0          0.0  ...   \n",
       "\n",
       "   redTowersDestroyed  redTotalGold  redAvgLevel  redTotalExperience  \\\n",
       "0                 0.0      0.464844     0.588235            0.557608   \n",
       "1                 0.5      0.556250     0.588235            0.590732   \n",
       "2                 0.0      0.527170     0.588235            0.575144   \n",
       "3                 0.0      0.457118     0.647059            0.635039   \n",
       "4                 0.0      0.537500     0.647059            0.664859   \n",
       "\n",
       "   redTotalMinionsKilled  redTotalJungleMinionsKilled  redGoldDiff  \\\n",
       "0               0.494505                     0.579545     0.485446   \n",
       "1               0.730769                     0.545455     0.644706   \n",
       "2               0.527473                     0.272727     0.566848   \n",
       "3               0.703297                     0.488636     0.573530   \n",
       "4               0.648352                     0.715909     0.559313   \n",
       "\n",
       "   redExperienceDiff  redCSPerMin  redGoldPerMin  \n",
       "0           0.472598     0.494505       0.464844  \n",
       "1           0.538488     0.730769       0.556250  \n",
       "2           0.530570     0.527473       0.527170  \n",
       "3           0.472541     0.703297       0.457118  \n",
       "4           0.459137     0.648352       0.537500  \n",
       "\n",
       "[5 rows x 40 columns]"
      ]
     },
     "execution_count": 4,
     "metadata": {},
     "output_type": "execute_result"
    }
   ],
   "source": [
    "data_scaled.head()"
   ]
  },
  {
   "cell_type": "code",
   "execution_count": 5,
   "metadata": {},
   "outputs": [
    {
     "data": {
      "text/html": [
       "<div>\n",
       "<style scoped>\n",
       "    .dataframe tbody tr th:only-of-type {\n",
       "        vertical-align: middle;\n",
       "    }\n",
       "\n",
       "    .dataframe tbody tr th {\n",
       "        vertical-align: top;\n",
       "    }\n",
       "\n",
       "    .dataframe thead th {\n",
       "        text-align: right;\n",
       "    }\n",
       "</style>\n",
       "<table border=\"1\" class=\"dataframe\">\n",
       "  <thead>\n",
       "    <tr style=\"text-align: right;\">\n",
       "      <th>blueWins</th>\n",
       "      <th>0</th>\n",
       "      <th>1</th>\n",
       "    </tr>\n",
       "    <tr>\n",
       "      <th>blueFirstBlood</th>\n",
       "      <th></th>\n",
       "      <th></th>\n",
       "    </tr>\n",
       "  </thead>\n",
       "  <tbody>\n",
       "    <tr>\n",
       "      <th>0</th>\n",
       "      <td>2949</td>\n",
       "      <td>1943</td>\n",
       "    </tr>\n",
       "    <tr>\n",
       "      <th>1</th>\n",
       "      <td>2000</td>\n",
       "      <td>2987</td>\n",
       "    </tr>\n",
       "  </tbody>\n",
       "</table>\n",
       "</div>"
      ],
      "text/plain": [
       "blueWins           0     1\n",
       "blueFirstBlood            \n",
       "0               2949  1943\n",
       "1               2000  2987"
      ]
     },
     "execution_count": 5,
     "metadata": {},
     "output_type": "execute_result"
    }
   ],
   "source": [
    "ct = pd.crosstab(data_raw['blueFirstBlood'], data_raw['blueWins'],)\n",
    "ct"
   ]
  },
  {
   "cell_type": "code",
   "execution_count": 6,
   "metadata": {},
   "outputs": [
    {
     "data": {
      "text/plain": [
       "<matplotlib.axes._subplots.AxesSubplot at 0x2a7924d1208>"
      ]
     },
     "execution_count": 6,
     "metadata": {},
     "output_type": "execute_result"
    },
    {
     "data": {
      "image/png": "[encoded data removed]",
      "text/plain": [
       "<Figure size 1332x756 with 1 Axes>"
      ]
     },
     "metadata": {
      "needs_background": "light"
     },
     "output_type": "display_data"
    }
   ],
   "source": [
    "ct.plot.bar(stacked=True, figsize =(18.5, 10.5))"
   ]
  },
  {
   "cell_type": "code",
   "execution_count": 7,
   "metadata": {},
   "outputs": [
    {
     "data": {
      "text/html": [
       "<div>\n",
       "<style scoped>\n",
       "    .dataframe tbody tr th:only-of-type {\n",
       "        vertical-align: middle;\n",
       "    }\n",
       "\n",
       "    .dataframe tbody tr th {\n",
       "        vertical-align: top;\n",
       "    }\n",
       "\n",
       "    .dataframe thead th {\n",
       "        text-align: right;\n",
       "    }\n",
       "</style>\n",
       "<table border=\"1\" class=\"dataframe\">\n",
       "  <thead>\n",
       "    <tr style=\"text-align: right;\">\n",
       "      <th></th>\n",
       "      <th>blueWardsPlaced</th>\n",
       "      <th>blueWardsDestroyed</th>\n",
       "      <th>blueFirstBlood</th>\n",
       "      <th>blueKills</th>\n",
       "      <th>blueDeaths</th>\n",
       "      <th>blueAssists</th>\n",
       "      <th>blueEliteMonsters</th>\n",
       "      <th>blueDragons</th>\n",
       "      <th>blueHeralds</th>\n",
       "      <th>blueTowersDestroyed</th>\n",
       "      <th>...</th>\n",
       "      <th>redTowersDestroyed</th>\n",
       "      <th>redTotalGold</th>\n",
       "      <th>redAvgLevel</th>\n",
       "      <th>redTotalExperience</th>\n",
       "      <th>redTotalMinionsKilled</th>\n",
       "      <th>redTotalJungleMinionsKilled</th>\n",
       "      <th>redGoldDiff</th>\n",
       "      <th>redExperienceDiff</th>\n",
       "      <th>redCSPerMin</th>\n",
       "      <th>redGoldPerMin</th>\n",
       "    </tr>\n",
       "  </thead>\n",
       "  <tbody>\n",
       "    <tr>\n",
       "      <th>0</th>\n",
       "      <td>0.093878</td>\n",
       "      <td>0.074074</td>\n",
       "      <td>1.0</td>\n",
       "      <td>0.409091</td>\n",
       "      <td>0.272727</td>\n",
       "      <td>0.379310</td>\n",
       "      <td>0.0</td>\n",
       "      <td>0.0</td>\n",
       "      <td>0.0</td>\n",
       "      <td>0.0</td>\n",
       "      <td>...</td>\n",
       "      <td>0.0</td>\n",
       "      <td>0.464844</td>\n",
       "      <td>0.588235</td>\n",
       "      <td>0.557608</td>\n",
       "      <td>0.494505</td>\n",
       "      <td>0.579545</td>\n",
       "      <td>0.485446</td>\n",
       "      <td>0.472598</td>\n",
       "      <td>0.494505</td>\n",
       "      <td>0.464844</td>\n",
       "    </tr>\n",
       "    <tr>\n",
       "      <th>1</th>\n",
       "      <td>0.028571</td>\n",
       "      <td>0.037037</td>\n",
       "      <td>0.0</td>\n",
       "      <td>0.227273</td>\n",
       "      <td>0.227273</td>\n",
       "      <td>0.172414</td>\n",
       "      <td>0.0</td>\n",
       "      <td>0.0</td>\n",
       "      <td>0.0</td>\n",
       "      <td>0.0</td>\n",
       "      <td>...</td>\n",
       "      <td>0.5</td>\n",
       "      <td>0.556250</td>\n",
       "      <td>0.588235</td>\n",
       "      <td>0.590732</td>\n",
       "      <td>0.730769</td>\n",
       "      <td>0.545455</td>\n",
       "      <td>0.644706</td>\n",
       "      <td>0.538488</td>\n",
       "      <td>0.730769</td>\n",
       "      <td>0.556250</td>\n",
       "    </tr>\n",
       "    <tr>\n",
       "      <th>2</th>\n",
       "      <td>0.040816</td>\n",
       "      <td>0.000000</td>\n",
       "      <td>0.0</td>\n",
       "      <td>0.318182</td>\n",
       "      <td>0.500000</td>\n",
       "      <td>0.137931</td>\n",
       "      <td>0.5</td>\n",
       "      <td>1.0</td>\n",
       "      <td>0.0</td>\n",
       "      <td>0.0</td>\n",
       "      <td>...</td>\n",
       "      <td>0.0</td>\n",
       "      <td>0.527170</td>\n",
       "      <td>0.588235</td>\n",
       "      <td>0.575144</td>\n",
       "      <td>0.527473</td>\n",
       "      <td>0.272727</td>\n",
       "      <td>0.566848</td>\n",
       "      <td>0.530570</td>\n",
       "      <td>0.527473</td>\n",
       "      <td>0.527170</td>\n",
       "    </tr>\n",
       "    <tr>\n",
       "      <th>3</th>\n",
       "      <td>0.155102</td>\n",
       "      <td>0.037037</td>\n",
       "      <td>0.0</td>\n",
       "      <td>0.181818</td>\n",
       "      <td>0.227273</td>\n",
       "      <td>0.172414</td>\n",
       "      <td>0.5</td>\n",
       "      <td>0.0</td>\n",
       "      <td>1.0</td>\n",
       "      <td>0.0</td>\n",
       "      <td>...</td>\n",
       "      <td>0.0</td>\n",
       "      <td>0.457118</td>\n",
       "      <td>0.647059</td>\n",
       "      <td>0.635039</td>\n",
       "      <td>0.703297</td>\n",
       "      <td>0.488636</td>\n",
       "      <td>0.573530</td>\n",
       "      <td>0.472541</td>\n",
       "      <td>0.703297</td>\n",
       "      <td>0.457118</td>\n",
       "    </tr>\n",
       "    <tr>\n",
       "      <th>4</th>\n",
       "      <td>0.285714</td>\n",
       "      <td>0.148148</td>\n",
       "      <td>0.0</td>\n",
       "      <td>0.272727</td>\n",
       "      <td>0.272727</td>\n",
       "      <td>0.206897</td>\n",
       "      <td>0.0</td>\n",
       "      <td>0.0</td>\n",
       "      <td>0.0</td>\n",
       "      <td>0.0</td>\n",
       "      <td>...</td>\n",
       "      <td>0.0</td>\n",
       "      <td>0.537500</td>\n",
       "      <td>0.647059</td>\n",
       "      <td>0.664859</td>\n",
       "      <td>0.648352</td>\n",
       "      <td>0.715909</td>\n",
       "      <td>0.559313</td>\n",
       "      <td>0.459137</td>\n",
       "      <td>0.648352</td>\n",
       "      <td>0.537500</td>\n",
       "    </tr>\n",
       "  </tbody>\n",
       "</table>\n",
       "<p>5 rows × 38 columns</p>\n",
       "</div>"
      ],
      "text/plain": [
       "   blueWardsPlaced  blueWardsDestroyed  blueFirstBlood  blueKills  blueDeaths  \\\n",
       "0         0.093878            0.074074             1.0   0.409091    0.272727   \n",
       "1         0.028571            0.037037             0.0   0.227273    0.227273   \n",
       "2         0.040816            0.000000             0.0   0.318182    0.500000   \n",
       "3         0.155102            0.037037             0.0   0.181818    0.227273   \n",
       "4         0.285714            0.148148             0.0   0.272727    0.272727   \n",
       "\n",
       "   blueAssists  blueEliteMonsters  blueDragons  blueHeralds  \\\n",
       "0     0.379310                0.0          0.0          0.0   \n",
       "1     0.172414                0.0          0.0          0.0   \n",
       "2     0.137931                0.5          1.0          0.0   \n",
       "3     0.172414                0.5          0.0          1.0   \n",
       "4     0.206897                0.0          0.0          0.0   \n",
       "\n",
       "   blueTowersDestroyed  ...  redTowersDestroyed  redTotalGold  redAvgLevel  \\\n",
       "0                  0.0  ...                 0.0      0.464844     0.588235   \n",
       "1                  0.0  ...                 0.5      0.556250     0.588235   \n",
       "2                  0.0  ...                 0.0      0.527170     0.588235   \n",
       "3                  0.0  ...                 0.0      0.457118     0.647059   \n",
       "4                  0.0  ...                 0.0      0.537500     0.647059   \n",
       "\n",
       "   redTotalExperience  redTotalMinionsKilled  redTotalJungleMinionsKilled  \\\n",
       "0            0.557608               0.494505                     0.579545   \n",
       "1            0.590732               0.730769                     0.545455   \n",
       "2            0.575144               0.527473                     0.272727   \n",
       "3            0.635039               0.703297                     0.488636   \n",
       "4            0.664859               0.648352                     0.715909   \n",
       "\n",
       "   redGoldDiff  redExperienceDiff  redCSPerMin  redGoldPerMin  \n",
       "0     0.485446           0.472598     0.494505       0.464844  \n",
       "1     0.644706           0.538488     0.730769       0.556250  \n",
       "2     0.566848           0.530570     0.527473       0.527170  \n",
       "3     0.573530           0.472541     0.703297       0.457118  \n",
       "4     0.559313           0.459137     0.648352       0.537500  \n",
       "\n",
       "[5 rows x 38 columns]"
      ]
     },
     "execution_count": 7,
     "metadata": {},
     "output_type": "execute_result"
    }
   ],
   "source": [
    "# Separating X and y\n",
    "\n",
    "X = data_scaled.drop(['blueWins', 'gameId'], axis = 1)\n",
    "y = data_scaled.blueWins.astype(int)\n",
    "X.head()"
   ]
  },
  {
   "cell_type": "code",
   "execution_count": 8,
   "metadata": {},
   "outputs": [
    {
     "data": {
      "text/plain": [
       "5018    0\n",
       "4932    0\n",
       "6453    0\n",
       "3131    0\n",
       "8743    1\n",
       "Name: blueWins, dtype: int32"
      ]
     },
     "execution_count": 8,
     "metadata": {},
     "output_type": "execute_result"
    }
   ],
   "source": [
    "# Splitting train and test data\n",
    "X_train, X_test, y_train, y_test = train_test_split(X, y, test_size=0.33, random_state=99)\n",
    "y_train.head()"
   ]
  },
  {
   "cell_type": "code",
   "execution_count": 9,
   "metadata": {},
   "outputs": [],
   "source": [
    "# Creating, Training and Testing the Decision Tree Model\n",
    "dtree = DecisionTreeClassifier(random_state=99)"
   ]
  },
  {
   "cell_type": "code",
   "execution_count": 10,
   "metadata": {},
   "outputs": [
    {
     "data": {
      "text/plain": [
       "DecisionTreeClassifier(random_state=99)"
      ]
     },
     "execution_count": 10,
     "metadata": {},
     "output_type": "execute_result"
    }
   ],
   "source": [
    "dtree.fit(X_train, y_train)"
   ]
  },
  {
   "cell_type": "code",
   "execution_count": 11,
   "metadata": {},
   "outputs": [
    {
     "data": {
      "text/html": [
       "<div>\n",
       "<style scoped>\n",
       "    .dataframe tbody tr th:only-of-type {\n",
       "        vertical-align: middle;\n",
       "    }\n",
       "\n",
       "    .dataframe tbody tr th {\n",
       "        vertical-align: top;\n",
       "    }\n",
       "\n",
       "    .dataframe thead th {\n",
       "        text-align: right;\n",
       "    }\n",
       "</style>\n",
       "<table border=\"1\" class=\"dataframe\">\n",
       "  <thead>\n",
       "    <tr style=\"text-align: right;\">\n",
       "      <th>col_0</th>\n",
       "      <th>0</th>\n",
       "      <th>1</th>\n",
       "    </tr>\n",
       "    <tr>\n",
       "      <th>blueWins</th>\n",
       "      <th></th>\n",
       "      <th></th>\n",
       "    </tr>\n",
       "  </thead>\n",
       "  <tbody>\n",
       "    <tr>\n",
       "      <th>0</th>\n",
       "      <td>1031</td>\n",
       "      <td>600</td>\n",
       "    </tr>\n",
       "    <tr>\n",
       "      <th>1</th>\n",
       "      <td>565</td>\n",
       "      <td>1065</td>\n",
       "    </tr>\n",
       "  </tbody>\n",
       "</table>\n",
       "</div>"
      ],
      "text/plain": [
       "col_0        0     1\n",
       "blueWins            \n",
       "0         1031   600\n",
       "1          565  1065"
      ]
     },
     "execution_count": 11,
     "metadata": {},
     "output_type": "execute_result"
    }
   ],
   "source": [
    "predictions_tree = dtree.predict(X_test)\n",
    "pd.crosstab(y_test, predictions_tree)"
   ]
  },
  {
   "cell_type": "code",
   "execution_count": 12,
   "metadata": {},
   "outputs": [
    {
     "name": "stdout",
     "output_type": "stream",
     "text": [
      "Accuracy of Decision Tree = 0.6427476234283962\n"
     ]
    }
   ],
   "source": [
    "accuracy_tree = accuracy_score(y_test, predictions_tree)\n",
    "print(f'Accuracy of Decision Tree = {accuracy_tree}')"
   ]
  },
  {
   "cell_type": "code",
   "execution_count": 13,
   "metadata": {},
   "outputs": [],
   "source": [
    "#Creating,Training and Testing the Logistic Regression Model\n",
    "log_regres = LogisticRegression(random_state=99)"
   ]
  },
  {
   "cell_type": "code",
   "execution_count": 14,
   "metadata": {},
   "outputs": [
    {
     "name": "stderr",
     "output_type": "stream",
     "text": [
      "c:\\users\\neerj\\appdata\\local\\programs\\python\\python36\\lib\\site-packages\\sklearn\\linear_model\\_logistic.py:764: ConvergenceWarning: lbfgs failed to converge (status=1):\n",
      "STOP: TOTAL NO. of ITERATIONS REACHED LIMIT.\n",
      "\n",
      "Increase the number of iterations (max_iter) or scale the data as shown in:\n",
      "    https://scikit-learn.org/stable/modules/preprocessing.html\n",
      "Please also refer to the documentation for alternative solver options:\n",
      "    https://scikit-learn.org/stable/modules/linear_model.html#logistic-regression\n",
      "  extra_warning_msg=_LOGISTIC_SOLVER_CONVERGENCE_MSG)\n"
     ]
    },
    {
     "data": {
      "text/plain": [
       "LogisticRegression(random_state=99)"
      ]
     },
     "execution_count": 14,
     "metadata": {},
     "output_type": "execute_result"
    }
   ],
   "source": [
    "log_regres.fit(X_train, y_train)"
   ]
  },
  {
   "cell_type": "code",
   "execution_count": 15,
   "metadata": {},
   "outputs": [
    {
     "data": {
      "text/html": [
       "<div>\n",
       "<style scoped>\n",
       "    .dataframe tbody tr th:only-of-type {\n",
       "        vertical-align: middle;\n",
       "    }\n",
       "\n",
       "    .dataframe tbody tr th {\n",
       "        vertical-align: top;\n",
       "    }\n",
       "\n",
       "    .dataframe thead th {\n",
       "        text-align: right;\n",
       "    }\n",
       "</style>\n",
       "<table border=\"1\" class=\"dataframe\">\n",
       "  <thead>\n",
       "    <tr style=\"text-align: right;\">\n",
       "      <th>col_0</th>\n",
       "      <th>0</th>\n",
       "      <th>1</th>\n",
       "    </tr>\n",
       "    <tr>\n",
       "      <th>blueWins</th>\n",
       "      <th></th>\n",
       "      <th></th>\n",
       "    </tr>\n",
       "  </thead>\n",
       "  <tbody>\n",
       "    <tr>\n",
       "      <th>0</th>\n",
       "      <td>1193</td>\n",
       "      <td>438</td>\n",
       "    </tr>\n",
       "    <tr>\n",
       "      <th>1</th>\n",
       "      <td>443</td>\n",
       "      <td>1187</td>\n",
       "    </tr>\n",
       "  </tbody>\n",
       "</table>\n",
       "</div>"
      ],
      "text/plain": [
       "col_0        0     1\n",
       "blueWins            \n",
       "0         1193   438\n",
       "1          443  1187"
      ]
     },
     "execution_count": 15,
     "metadata": {},
     "output_type": "execute_result"
    }
   ],
   "source": [
    "predictions_reg = log_regres.predict(X_test)\n",
    "pd.crosstab(y_test, predictions_reg)"
   ]
  },
  {
   "cell_type": "code",
   "execution_count": 16,
   "metadata": {},
   "outputs": [
    {
     "name": "stdout",
     "output_type": "stream",
     "text": [
      "Accuracy of Logistic Regression Model = 0.72983747316774\n"
     ]
    }
   ],
   "source": [
    "accuracy_reg = accuracy_score(y_test, predictions_reg)\n",
    "print(f'Accuracy of Logistic Regression Model = {accuracy_reg}')"
   ]
  },
  {
   "cell_type": "code",
   "execution_count": 17,
   "metadata": {},
   "outputs": [],
   "source": [
    "#Creating,Training and Testing the Support Vector Machine\n",
    "svm = SVC()"
   ]
  },
  {
   "cell_type": "code",
   "execution_count": 18,
   "metadata": {},
   "outputs": [
    {
     "data": {
      "text/plain": [
       "SVC()"
      ]
     },
     "execution_count": 18,
     "metadata": {},
     "output_type": "execute_result"
    }
   ],
   "source": [
    "svm.fit(X_train, y_train)"
   ]
  },
  {
   "cell_type": "code",
   "execution_count": 19,
   "metadata": {},
   "outputs": [
    {
     "data": {
      "text/html": [
       "<div>\n",
       "<style scoped>\n",
       "    .dataframe tbody tr th:only-of-type {\n",
       "        vertical-align: middle;\n",
       "    }\n",
       "\n",
       "    .dataframe tbody tr th {\n",
       "        vertical-align: top;\n",
       "    }\n",
       "\n",
       "    .dataframe thead th {\n",
       "        text-align: right;\n",
       "    }\n",
       "</style>\n",
       "<table border=\"1\" class=\"dataframe\">\n",
       "  <thead>\n",
       "    <tr style=\"text-align: right;\">\n",
       "      <th>col_0</th>\n",
       "      <th>0</th>\n",
       "      <th>1</th>\n",
       "    </tr>\n",
       "    <tr>\n",
       "      <th>blueWins</th>\n",
       "      <th></th>\n",
       "      <th></th>\n",
       "    </tr>\n",
       "  </thead>\n",
       "  <tbody>\n",
       "    <tr>\n",
       "      <th>0</th>\n",
       "      <td>1203</td>\n",
       "      <td>428</td>\n",
       "    </tr>\n",
       "    <tr>\n",
       "      <th>1</th>\n",
       "      <td>471</td>\n",
       "      <td>1159</td>\n",
       "    </tr>\n",
       "  </tbody>\n",
       "</table>\n",
       "</div>"
      ],
      "text/plain": [
       "col_0        0     1\n",
       "blueWins            \n",
       "0         1203   428\n",
       "1          471  1159"
      ]
     },
     "execution_count": 19,
     "metadata": {},
     "output_type": "execute_result"
    }
   ],
   "source": [
    "predictions_svm = svm.predict(X_test)\n",
    "pd.crosstab(y_test, predictions_svm)"
   ]
  },
  {
   "cell_type": "code",
   "execution_count": 20,
   "metadata": {},
   "outputs": [
    {
     "name": "stdout",
     "output_type": "stream",
     "text": [
      "Accuracy of SVM = 0.7243176939589083\n"
     ]
    }
   ],
   "source": [
    "accuracy_svm = accuracy_score(y_test, predictions_svm)\n",
    "print(f'Accuracy of SVM = {accuracy_svm}')"
   ]
  },
  {
   "cell_type": "code",
   "execution_count": 21,
   "metadata": {},
   "outputs": [],
   "source": [
    "#Defining, Training and Testing a Simple NN\n",
    "\n",
    "model = Sequential()\n",
    "model.add(Input(38))\n",
    "model.add(Dense(64, activation = 'relu'))\n",
    "model.add(Dense(1,activation = 'sigmoid'))"
   ]
  },
  {
   "cell_type": "code",
   "execution_count": 22,
   "metadata": {},
   "outputs": [],
   "source": [
    "model.compile(optimizer='adam',\n",
    "              loss='binary_crossentropy',\n",
    "              metrics=['accuracy'])"
   ]
  },
  {
   "cell_type": "code",
   "execution_count": 23,
   "metadata": {},
   "outputs": [],
   "source": [
    "epochs = 20\n",
    "batch_size = 16"
   ]
  },
  {
   "cell_type": "code",
   "execution_count": 24,
   "metadata": {},
   "outputs": [
    {
     "name": "stdout",
     "output_type": "stream",
     "text": [
      "Epoch 1/20\n",
      "414/414 [==============================] - 1s 3ms/step - loss: 0.5714 - accuracy: 0.7082\n",
      "Epoch 2/20\n",
      "414/414 [==============================] - 1s 2ms/step - loss: 0.5404 - accuracy: 0.7208\n",
      "Epoch 3/20\n",
      "414/414 [==============================] - 1s 2ms/step - loss: 0.5367 - accuracy: 0.7274\n",
      "Epoch 4/20\n",
      "414/414 [==============================] - 1s 2ms/step - loss: 0.5354 - accuracy: 0.7239\n",
      "Epoch 5/20\n",
      "414/414 [==============================] - 1s 2ms/step - loss: 0.5349 - accuracy: 0.7271\n",
      "Epoch 6/20\n",
      "414/414 [==============================] - 1s 2ms/step - loss: 0.5335 - accuracy: 0.7288\n",
      "Epoch 7/20\n",
      "414/414 [==============================] - 1s 2ms/step - loss: 0.5344 - accuracy: 0.7301\n",
      "Epoch 8/20\n",
      "414/414 [==============================] - 1s 2ms/step - loss: 0.5330 - accuracy: 0.7282\n",
      "Epoch 9/20\n",
      "414/414 [==============================] - 1s 3ms/step - loss: 0.5330 - accuracy: 0.7303\n",
      "Epoch 10/20\n",
      "414/414 [==============================] - 1s 3ms/step - loss: 0.5321 - accuracy: 0.7273\n",
      "Epoch 11/20\n",
      "414/414 [==============================] - 1s 2ms/step - loss: 0.5315 - accuracy: 0.7264\n",
      "Epoch 12/20\n",
      "414/414 [==============================] - 1s 3ms/step - loss: 0.5308 - accuracy: 0.7309\n",
      "Epoch 13/20\n",
      "414/414 [==============================] - 1s 2ms/step - loss: 0.5318 - accuracy: 0.7265\n",
      "Epoch 14/20\n",
      "414/414 [==============================] - 1s 2ms/step - loss: 0.5303 - accuracy: 0.7304\n",
      "Epoch 15/20\n",
      "414/414 [==============================] - 1s 2ms/step - loss: 0.5287 - accuracy: 0.7318\n",
      "Epoch 16/20\n",
      "414/414 [==============================] - 1s 2ms/step - loss: 0.5294 - accuracy: 0.7304\n",
      "Epoch 17/20\n",
      "414/414 [==============================] - 1s 2ms/step - loss: 0.5319 - accuracy: 0.7316\n",
      "Epoch 18/20\n",
      "414/414 [==============================] - 1s 2ms/step - loss: 0.5298 - accuracy: 0.7347\n",
      "Epoch 19/20\n",
      "414/414 [==============================] - 1s 2ms/step - loss: 0.5280 - accuracy: 0.7335\n",
      "Epoch 20/20\n",
      "414/414 [==============================] - 1s 2ms/step - loss: 0.5301 - accuracy: 0.7312\n"
     ]
    },
    {
     "data": {
      "text/plain": [
       "<tensorflow.python.keras.callbacks.History at 0x2a7a2ab5f60>"
      ]
     },
     "execution_count": 24,
     "metadata": {},
     "output_type": "execute_result"
    }
   ],
   "source": [
    "model.fit(X_train, y_train, epochs = epochs, batch_size = batch_size)"
   ]
  },
  {
   "cell_type": "code",
   "execution_count": 25,
   "metadata": {},
   "outputs": [
    {
     "name": "stdout",
     "output_type": "stream",
     "text": [
      "102/102 [==============================] - 0s 2ms/step - loss: 0.5425 - accuracy: 0.7228\n",
      "0.5424675345420837\n",
      "0.7227843999862671\n"
     ]
    }
   ],
   "source": [
    "val_loss, val_acc = model.evaluate(X_test, y_test)\n",
    "print(val_loss)\n",
    "print(val_acc)"
   ]
  },
  {
   "cell_type": "code",
   "execution_count": null,
   "metadata": {
    "collapsed": true
   },
   "outputs": [],
   "source": [
    "nn_predictions = model.predict_classes(X_test)\n",
    "nn_predictions"
   ]
  },
  {
   "cell_type": "code",
   "execution_count": 27,
   "metadata": {},
   "outputs": [
    {
     "name": "stdout",
     "output_type": "stream",
     "text": [
      "Accuracy of Neural Network Model = 0.7227844219564551\n"
     ]
    }
   ],
   "source": [
    "accuracy_nn = accuracy_score(y_test, nn_predictions)\n",
    "print(f'Accuracy of Neural Network Model = {accuracy_nn}')"
   ]
  },
  {
   "cell_type": "code",
   "execution_count": 28,
   "metadata": {},
   "outputs": [
    {
     "name": "stdout",
     "output_type": "stream",
     "text": [
      "Decision Tree Latency : 3.587 milliseconds\n",
      "SVM Latency : 640.5371 milliseconds\n",
      "Logistic Regression Latency : 2.5959 milliseconds\n",
      "Neural Network Latency : 90.6726 milliseconds\n"
     ]
    }
   ],
   "source": [
    "#Comparing Prediction Latencies for all methods \n",
    "start_dtree = timeit.default_timer()\n",
    "dtree.predict(X_test)\n",
    "stop_dtree = timeit.default_timer()\n",
    "\n",
    "start_svm = timeit.default_timer()\n",
    "svm.predict(X_test)\n",
    "stop_svm = timeit.default_timer()\n",
    "\n",
    "start_lreg = timeit.default_timer()\n",
    "log_regres.predict(X_test)\n",
    "stop_lreg = timeit.default_timer()\n",
    "\n",
    "start_nn = timeit.default_timer()\n",
    "model.predict_classes(X_test)\n",
    "stop_nn = timeit.default_timer()\n",
    "\n",
    "time_dtree = stop_dtree - start_dtree\n",
    "time_svm = stop_svm - start_svm\n",
    "time_lreg = stop_lreg - start_lreg\n",
    "time_nn = stop_nn - start_nn\n",
    "\n",
    "print(f'Decision Tree Latency : {round(time_dtree * 1000, 4)} milliseconds')\n",
    "print(f'SVM Latency : {round(time_svm * 1000, 4)} milliseconds')\n",
    "print(f'Logistic Regression Latency : {round(time_lreg * 1000, 4)} milliseconds')\n",
    "print(f'Neural Network Latency : {round(time_nn * 1000, 4)} milliseconds')"
   ]
  },
  {
   "cell_type": "code",
   "execution_count": 29,
   "metadata": {},
   "outputs": [
    {
     "name": "stdout",
     "output_type": "stream",
     "text": [
      "Accuracy of Decision Tree = 64.27%\n",
      "Accuracy of SVM = 72.43%\n",
      "Accuracy of Logistic Regression Model = 72.98%\n",
      "Accuracy of Neural Network Model = 72.28%\n"
     ]
    }
   ],
   "source": [
    "#Comparing accuracies of all models\n",
    "print(f'Accuracy of Decision Tree = {round(accuracy_tree * 100, 2)}%')\n",
    "print(f'Accuracy of SVM = {round(accuracy_svm * 100, 2)}%')\n",
    "print(f'Accuracy of Logistic Regression Model = {round(accuracy_reg * 100, 2)}%')\n",
    "print(f'Accuracy of Neural Network Model = {round(accuracy_nn * 100, 2)}%')"
   ]
  }
 ],
 "metadata": {
  "kernelspec": {
   "display_name": "Python 3",
   "language": "python",
   "name": "python3"
  },
  "language_info": {
   "codemirror_mode": {
    "name": "ipython",
    "version": 3
   },
   "file_extension": ".py",
   "mimetype": "text/x-python",
   "name": "python",
   "nbconvert_exporter": "python",
   "pygments_lexer": "ipython3",
   "version": "3.6.8"
  }
 },
 "nbformat": 4,
 "nbformat_minor": 4
}
